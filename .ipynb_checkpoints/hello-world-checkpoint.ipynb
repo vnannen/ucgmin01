{
 "cells": [
  {
   "attachments": {},
   "cell_type": "markdown",
   "id": "0d9a7c4e-76b4-426c-bd76-fde3784b8641",
   "metadata": {},
   "source": [
    "# first Python code\n",
    "\n",
    "so cool!"
   ]
  },
  {
   "cell_type": "code",
   "execution_count": 4,
   "id": "e15a50c0-2105-40d2-81e0-d75153b74ff4",
   "metadata": {},
   "outputs": [
    {
     "name": "stdout",
     "output_type": "stream",
     "text": [
      "hello world\n"
     ]
    }
   ],
   "source": [
    "print('hello world')"
   ]
  },
  {
   "cell_type": "code",
   "execution_count": 2,
   "id": "ef6e238f-055f-4c56-be79-6c8b03a06fda",
   "metadata": {},
   "outputs": [
    {
     "name": "stdout",
     "output_type": "stream",
     "text": [
      "some more text\n"
     ]
    }
   ],
   "source": [
    "print('some more text')"
   ]
  },
  {
   "cell_type": "code",
   "execution_count": null,
   "id": "d95f3689-a6cc-437c-8398-9fd7d664ee6a",
   "metadata": {},
   "outputs": [],
   "source": []
  }
 ],
 "metadata": {
  "kernelspec": {
   "display_name": "Python [conda env:GIS]",
   "language": "python",
   "name": "conda-env-GIS-py"
  },
  "language_info": {
   "codemirror_mode": {
    "name": "ipython",
    "version": 3
   },
   "file_extension": ".py",
   "mimetype": "text/x-python",
   "name": "python",
   "nbconvert_exporter": "python",
   "pygments_lexer": "ipython3",
   "version": "3.13.5"
  }
 },
 "nbformat": 4,
 "nbformat_minor": 5
}
